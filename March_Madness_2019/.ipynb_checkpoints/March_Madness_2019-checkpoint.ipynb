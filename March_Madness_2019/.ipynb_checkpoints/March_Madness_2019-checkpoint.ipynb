{
 "cells": [
  {
   "cell_type": "markdown",
   "metadata": {
    "_execution_state": "idle",
    "_uuid": "6ca61f5021f254e402b3b58c963cfb95a67fff5c"
   },
   "source": [
    "# **Simple GLM & Random Forest Model**\n",
    "\n",
    "This code predicts the outcome (in percentage) of how likely team 1 will win against team 2 for all 68 teams participating in the 2019 NCAA tournamet. All data is from the Google Cloud & NCAA® ML Competition 2019-Men's (https://www.kaggle.com/c/mens-machine-learning-competition-2019). \n",
    "\n",
    "### *Variables*\n",
    "For each NCAA tournament match after 2013, I predict the final result based on the following variables: <br>\n",
    "(The variables are based on that season's data and information)\n",
    "* *TeamConferences.csv*: each team's conference name, difference in conference? (1,0), conference code (concatenation of two conference), \n",
    "* *NCAATourneySeed.csv*: each team's region, difference in region? (1,0), region code (concatenation of two regions), each team's seed (and difference in seed),\n",
    "* *MasseyOrdinals_thru_2019_day_128.csv*: each team's rank (and their difference), \n",
    "* *RegularSeasonCompactResults.csv*: each team's regular season's win rate (and their difference), each team's average of difference in points from regular season (and their difference)\n",
    "\n",
    "### *Model *\n",
    "I used caret package to build 2 models based on GLM and randomForest. Then, I submitted two separate predictions based on the 2 different models.\n"
   ]
  },
  {
   "cell_type": "code",
   "execution_count": null,
   "metadata": {
    "_kg_hide-output": true,
    "_uuid": "878bc76d49b64e2ccdaac2fa082da879ee1fce91",
    "scrolled": true
   },
   "outputs": [],
   "source": [
    "library(dplyr)\n",
    "library(tidyr)\n",
    "library(Metrics)\n",
    "library(caret)\n",
    "library(randomForest)\n",
    "library(xlsx)\n",
    "\n",
    "options(warn=-1)"
   ]
  },
  {
   "cell_type": "code",
   "execution_count": 2,
   "metadata": {
    "_uuid": "348bdcda552646ae8c8ccacd73d52e4b24d1d250"
   },
   "outputs": [],
   "source": [
    "########## GET DATA ##########\n",
    "\n",
    "teams <- read.csv(\"../input/stage2datafiles/Teams.csv\", stringsAsFactors = FALSE)\n",
    "seeds <- read.csv(\"../input/stage2datafiles/NCAATourneySeeds.csv\", stringsAsFactors = FALSE)\n",
    "tourney <- read.csv(\"../input/stage2datafiles/NCAATourneyCompactResults.csv\", stringsAsFactors = FALSE)\n",
    "regular <- read.csv(\"../input/stage2datafiles/RegularSeasonCompactResults.csv\", stringsAsFactors = FALSE)\n",
    "rank <- read.csv(\"../input/masseyordinals_thru_2019_day_128/MasseyOrdinals_thru_2019_day_128.csv\", stringsAsFactors = FALSE)\n",
    "conference <- read.csv(\"../input/stage2datafiles/TeamConferences.csv\", stringsAsFactors = FALSE)\n",
    "Stage1 <- read.csv(\"../input/SampleSubmissionStage1.csv\", stringsAsFactors = FALSE) %>% \n",
    "  select(ID) %>% \n",
    "  separate(ID, sep = \"_\", into = c(\"Season\", \"Team1\", \"Team2\"), convert = TRUE)\n",
    "Stage2 <- read.csv(\"../input/SampleSubmissionStage2.csv\", stringsAsFactors = FALSE) %>% \n",
    "  select(ID) %>% \n",
    "  separate(ID, sep = \"_\", into = c(\"Season\", \"Team1\", \"Team2\"), convert = TRUE)"
   ]
  },
  {
   "cell_type": "markdown",
   "metadata": {
    "_uuid": "617277bb82ac7e160cd45b41baba45bf74753b58"
   },
   "source": [
    "## PRE-PROCESS & CLEAN DATA"
   ]
  },
  {
   "cell_type": "code",
   "execution_count": 3,
   "metadata": {
    "_uuid": "6323a54225bbb19b6a278513af1a409110da6917"
   },
   "outputs": [],
   "source": [
    "Season_Year <- 2003 #Only use training data from this date"
   ]
  },
  {
   "cell_type": "markdown",
   "metadata": {
    "_uuid": "f8722adedefe8e5427770fa9084017991932b98e"
   },
   "source": [
    " ### Clean rank: Calculate average rank by Season "
   ]
  },
  {
   "cell_type": "code",
   "execution_count": 4,
   "metadata": {
    "_uuid": "fa3f993e702b98e7565d4e9577ed651498086e60"
   },
   "outputs": [
    {
     "data": {
      "text/html": [
       "<table>\n",
       "<thead>\n",
       "\t<tr><th scope=col>Season</th><th scope=col>TeamID</th><th scope=col>rank</th></tr>\n",
       "</thead>\n",
       "<tbody>\n",
       "\t<tr><td>2003    </td><td>1102    </td><td>144.2875</td></tr>\n",
       "\t<tr><td>2003    </td><td>1103    </td><td>182.2050</td></tr>\n",
       "\t<tr><td>2003    </td><td>1104    </td><td> 27.6555</td></tr>\n",
       "\t<tr><td>2003    </td><td>1105    </td><td>305.3775</td></tr>\n",
       "\t<tr><td>2003    </td><td>1106    </td><td>243.2650</td></tr>\n",
       "\t<tr><td>2003    </td><td>1107    </td><td>291.9875</td></tr>\n",
       "</tbody>\n",
       "</table>\n"
      ],
      "text/latex": [
       "\\begin{tabular}{r|lll}\n",
       " Season & TeamID & rank\\\\\n",
       "\\hline\n",
       "\t 2003     & 1102     & 144.2875\\\\\n",
       "\t 2003     & 1103     & 182.2050\\\\\n",
       "\t 2003     & 1104     &  27.6555\\\\\n",
       "\t 2003     & 1105     & 305.3775\\\\\n",
       "\t 2003     & 1106     & 243.2650\\\\\n",
       "\t 2003     & 1107     & 291.9875\\\\\n",
       "\\end{tabular}\n"
      ],
      "text/markdown": [
       "\n",
       "| Season | TeamID | rank |\n",
       "|---|---|---|\n",
       "| 2003     | 1102     | 144.2875 |\n",
       "| 2003     | 1103     | 182.2050 |\n",
       "| 2003     | 1104     |  27.6555 |\n",
       "| 2003     | 1105     | 305.3775 |\n",
       "| 2003     | 1106     | 243.2650 |\n",
       "| 2003     | 1107     | 291.9875 |\n",
       "\n"
      ],
      "text/plain": [
       "  Season TeamID rank    \n",
       "1 2003   1102   144.2875\n",
       "2 2003   1103   182.2050\n",
       "3 2003   1104    27.6555\n",
       "4 2003   1105   305.3775\n",
       "5 2003   1106   243.2650\n",
       "6 2003   1107   291.9875"
      ]
     },
     "metadata": {},
     "output_type": "display_data"
    }
   ],
   "source": [
    "rank_group <- rank[rank$Season >= Season_Year,c(\"Season\",\"TeamID\",\"OrdinalRank\")] %>%\n",
    "  group_by(Season,TeamID) %>%\n",
    "  summarize(rank = mean(OrdinalRank))\n",
    "head(rank_group)"
   ]
  },
  {
   "cell_type": "markdown",
   "metadata": {
    "_uuid": "ff6705ecdb6e8e97abf08a1bb7a8b0628d34883a"
   },
   "source": [
    " ### Clean seed: Calculate seed by Season"
   ]
  },
  {
   "cell_type": "code",
   "execution_count": 5,
   "metadata": {
    "_uuid": "4fb34dfdf54bd938991110f620096a2c2318d1b8",
    "scrolled": true
   },
   "outputs": [
    {
     "data": {
      "text/html": [
       "<table>\n",
       "<thead>\n",
       "\t<tr><th></th><th scope=col>Season</th><th scope=col>TeamID</th><th scope=col>region</th><th scope=col>Seed_num</th></tr>\n",
       "</thead>\n",
       "<tbody>\n",
       "\t<tr><th scope=row>1155</th><td>2003</td><td>1328</td><td>W   </td><td>1   </td></tr>\n",
       "\t<tr><th scope=row>1156</th><td>2003</td><td>1448</td><td>W   </td><td>2   </td></tr>\n",
       "\t<tr><th scope=row>1157</th><td>2003</td><td>1393</td><td>W   </td><td>3   </td></tr>\n",
       "\t<tr><th scope=row>1158</th><td>2003</td><td>1257</td><td>W   </td><td>4   </td></tr>\n",
       "\t<tr><th scope=row>1159</th><td>2003</td><td>1280</td><td>W   </td><td>5   </td></tr>\n",
       "\t<tr><th scope=row>1160</th><td>2003</td><td>1329</td><td>W   </td><td>6   </td></tr>\n",
       "</tbody>\n",
       "</table>\n"
      ],
      "text/latex": [
       "\\begin{tabular}{r|llll}\n",
       "  & Season & TeamID & region & Seed\\_num\\\\\n",
       "\\hline\n",
       "\t1155 & 2003 & 1328 & W    & 1   \\\\\n",
       "\t1156 & 2003 & 1448 & W    & 2   \\\\\n",
       "\t1157 & 2003 & 1393 & W    & 3   \\\\\n",
       "\t1158 & 2003 & 1257 & W    & 4   \\\\\n",
       "\t1159 & 2003 & 1280 & W    & 5   \\\\\n",
       "\t1160 & 2003 & 1329 & W    & 6   \\\\\n",
       "\\end{tabular}\n"
      ],
      "text/markdown": [
       "\n",
       "| <!--/--> | Season | TeamID | region | Seed_num |\n",
       "|---|---|---|---|---|\n",
       "| 1155 | 2003 | 1328 | W    | 1    |\n",
       "| 1156 | 2003 | 1448 | W    | 2    |\n",
       "| 1157 | 2003 | 1393 | W    | 3    |\n",
       "| 1158 | 2003 | 1257 | W    | 4    |\n",
       "| 1159 | 2003 | 1280 | W    | 5    |\n",
       "| 1160 | 2003 | 1329 | W    | 6    |\n",
       "\n"
      ],
      "text/plain": [
       "     Season TeamID region Seed_num\n",
       "1155 2003   1328   W      1       \n",
       "1156 2003   1448   W      2       \n",
       "1157 2003   1393   W      3       \n",
       "1158 2003   1257   W      4       \n",
       "1159 2003   1280   W      5       \n",
       "1160 2003   1329   W      6       "
      ]
     },
     "metadata": {},
     "output_type": "display_data"
    }
   ],
   "source": [
    "seeds$region <- substring(seeds$Seed,1,1)\n",
    "seeds$Seed_num <- as.numeric(substring(seeds$Seed,2,3))\n",
    "seeds <- seeds[seeds$Season >= Season_Year,c(\"Season\",\"TeamID\",\"region\",\"Seed_num\")]\n",
    "head(seeds)\n"
   ]
  },
  {
   "cell_type": "markdown",
   "metadata": {
    "_uuid": "135d3aab4b9530b31b6e5aeecc64704eb400397a"
   },
   "source": [
    "### Clean regular: Calculate average score difference and win rate by year "
   ]
  },
  {
   "cell_type": "code",
   "execution_count": 6,
   "metadata": {
    "_uuid": "ad0641be421e86c041091ec5cae52326eae8c362",
    "scrolled": false
   },
   "outputs": [
    {
     "data": {
      "text/html": [
       "<table>\n",
       "<thead>\n",
       "\t<tr><th scope=col>Season</th><th scope=col>TeamID</th><th scope=col>scorediff</th><th scope=col>W_rate</th></tr>\n",
       "</thead>\n",
       "<tbody>\n",
       "\t<tr><td>2003      </td><td>1102      </td><td> 0.2500000</td><td>0.4285714 </td></tr>\n",
       "\t<tr><td>2003      </td><td>1103      </td><td> 0.6296296</td><td>0.4814815 </td></tr>\n",
       "\t<tr><td>2003      </td><td>1104      </td><td> 4.2857143</td><td>0.6071429 </td></tr>\n",
       "\t<tr><td>2003      </td><td>1105      </td><td>-4.8846154</td><td>0.2692308 </td></tr>\n",
       "\t<tr><td>2003      </td><td>1106      </td><td>-0.1428571</td><td>0.4642857 </td></tr>\n",
       "\t<tr><td>2003      </td><td>1107      </td><td>-9.7857143</td><td>0.2500000 </td></tr>\n",
       "</tbody>\n",
       "</table>\n"
      ],
      "text/latex": [
       "\\begin{tabular}{r|llll}\n",
       " Season & TeamID & scorediff & W\\_rate\\\\\n",
       "\\hline\n",
       "\t 2003       & 1102       &  0.2500000 & 0.4285714 \\\\\n",
       "\t 2003       & 1103       &  0.6296296 & 0.4814815 \\\\\n",
       "\t 2003       & 1104       &  4.2857143 & 0.6071429 \\\\\n",
       "\t 2003       & 1105       & -4.8846154 & 0.2692308 \\\\\n",
       "\t 2003       & 1106       & -0.1428571 & 0.4642857 \\\\\n",
       "\t 2003       & 1107       & -9.7857143 & 0.2500000 \\\\\n",
       "\\end{tabular}\n"
      ],
      "text/markdown": [
       "\n",
       "| Season | TeamID | scorediff | W_rate |\n",
       "|---|---|---|---|\n",
       "| 2003       | 1102       |  0.2500000 | 0.4285714  |\n",
       "| 2003       | 1103       |  0.6296296 | 0.4814815  |\n",
       "| 2003       | 1104       |  4.2857143 | 0.6071429  |\n",
       "| 2003       | 1105       | -4.8846154 | 0.2692308  |\n",
       "| 2003       | 1106       | -0.1428571 | 0.4642857  |\n",
       "| 2003       | 1107       | -9.7857143 | 0.2500000  |\n",
       "\n"
      ],
      "text/plain": [
       "  Season TeamID scorediff  W_rate   \n",
       "1 2003   1102    0.2500000 0.4285714\n",
       "2 2003   1103    0.6296296 0.4814815\n",
       "3 2003   1104    4.2857143 0.6071429\n",
       "4 2003   1105   -4.8846154 0.2692308\n",
       "5 2003   1106   -0.1428571 0.4642857\n",
       "6 2003   1107   -9.7857143 0.2500000"
      ]
     },
     "metadata": {},
     "output_type": "display_data"
    }
   ],
   "source": [
    "# Score difference\n",
    "regular$Wdiff <- regular$WScore - regular$LScore\n",
    "regular$Ldiff <- regular$LScore - regular$WScore\n",
    "regular_W <- regular[regular$Season >= Season_Year,c(\"Season\",\"WTeamID\",\"Wdiff\")] \n",
    "regular_L <- regular[regular$Season >= Season_Year,c(\"Season\",\"LTeamID\",\"Ldiff\")]\n",
    "\n",
    "# Get Win & Loss counts\n",
    "regular_W_count <- regular_W %>%\n",
    "  group_by(Season,WTeamID) %>%\n",
    "  summarize(Wcount = n())\n",
    "regular_L_count <- regular_L %>%\n",
    "group_by(Season,LTeamID) %>%\n",
    "  summarize(Lcount = n())\n",
    "colnames(regular_W_count)[2] <- \"TeamID\"\n",
    "colnames(regular_L_count)[2] <- \"TeamID\"\n",
    "\n",
    "# Get average score difference\n",
    "colnames(regular_W) <- c(\"Season\",\"TeamID\",\"diff\") \n",
    "colnames(regular_L) <- c(\"Season\",\"TeamID\",\"diff\")\n",
    "regular_group <- rbind(regular_W,regular_L)\n",
    "regular_group <- regular_group %>%\n",
    "  group_by(Season,TeamID) %>%\n",
    "  summarize(scorediff = mean(diff))\n",
    "regular_group <- left_join(regular_group,regular_W_count,by=c(\"Season\",\"TeamID\"))\n",
    "regular_group <- left_join(regular_group,regular_L_count,by=c(\"Season\",\"TeamID\"))\n",
    "regular_group$W_rate <- regular_group$Wcount/(regular_group$Wcount+regular_group$Lcount)\n",
    "regular_group <- regular_group[,c(\"Season\",\"TeamID\",\"scorediff\",\"W_rate\")]\n",
    "head(regular_group)"
   ]
  },
  {
   "cell_type": "markdown",
   "metadata": {
    "_uuid": "ae83133f753f57e4ee4a823a88dc210158d664e6"
   },
   "source": [
    "### Clean NCAA tourney table and join variables"
   ]
  },
  {
   "cell_type": "code",
   "execution_count": 7,
   "metadata": {
    "_uuid": "42e92d4d35e345a51d6665c5010e8c80f1da43f1",
    "scrolled": true
   },
   "outputs": [
    {
     "data": {
      "text/html": [
       "<table>\n",
       "<thead>\n",
       "\t<tr><th scope=col>Season</th><th scope=col>Team1</th><th scope=col>Team2</th><th scope=col>result</th><th scope=col>type</th><th scope=col>conf1</th><th scope=col>conf2</th><th scope=col>confdiff</th><th scope=col>confcode</th><th scope=col>rank1</th><th scope=col>⋯</th><th scope=col>seed2</th><th scope=col>seeddiff</th><th scope=col>regiondiff</th><th scope=col>regioncode</th><th scope=col>scorediff1</th><th scope=col>W_rate1</th><th scope=col>scorediff2</th><th scope=col>W_rate2</th><th scope=col>scorediffdiff</th><th scope=col>W_ratediff</th></tr>\n",
       "</thead>\n",
       "<tbody>\n",
       "\t<tr><td>2003         </td><td>1421         </td><td>1411         </td><td>1            </td><td>train        </td><td>big_south    </td><td>swac         </td><td>1            </td><td>big_southswac</td><td>241.370000   </td><td>⋯            </td><td>16           </td><td>  0          </td><td>0            </td><td>XX           </td><td>-7.241379    </td><td>0.4482759    </td><td> 1.966667    </td><td>0.6000000    </td><td>-9.2080460   </td><td>-0.15172414  </td></tr>\n",
       "\t<tr><td>2003         </td><td>1112         </td><td>1436         </td><td>1            </td><td>train        </td><td>pac_ten      </td><td>aec          </td><td>1            </td><td>pac_tenaec   </td><td>  3.676744   </td><td>⋯            </td><td>16           </td><td>-15          </td><td>0            </td><td>ZZ           </td><td>14.964286    </td><td>0.8928571    </td><td> 4.655172    </td><td>0.6551724    </td><td>10.3091133   </td><td> 0.23768473  </td></tr>\n",
       "\t<tr><td>2003         </td><td>1113         </td><td>1272         </td><td>1            </td><td>train        </td><td>pac_ten      </td><td>cusa         </td><td>1            </td><td>pac_tencusa  </td><td> 40.892500   </td><td>⋯            </td><td> 7           </td><td>  3          </td><td>0            </td><td>ZZ           </td><td> 6.793103    </td><td>0.6206897    </td><td> 8.689655    </td><td>0.7931034    </td><td>-1.8965517   </td><td>-0.17241379  </td></tr>\n",
       "\t<tr><td>2003         </td><td>1141         </td><td>1166         </td><td>1            </td><td>train        </td><td>mac          </td><td>mvc          </td><td>1            </td><td>macmvc       </td><td> 75.095000   </td><td>⋯            </td><td> 6           </td><td>  5          </td><td>0            </td><td>ZZ           </td><td> 6.103448    </td><td>0.7931034    </td><td>14.909091    </td><td>0.8787879    </td><td>-8.8056426   </td><td>-0.08568443  </td></tr>\n",
       "\t<tr><td>2003         </td><td>1143         </td><td>1301         </td><td>1            </td><td>train        </td><td>pac_ten      </td><td>acc          </td><td>1            </td><td>pac_tenacc   </td><td> 40.748184   </td><td>⋯            </td><td> 9           </td><td> -1          </td><td>0            </td><td>WW           </td><td> 4.724138    </td><td>0.7241379    </td><td> 4.400000    </td><td>0.6000000    </td><td> 0.3241379   </td><td> 0.12413793  </td></tr>\n",
       "\t<tr><td>2003         </td><td>1163         </td><td>1140         </td><td>1            </td><td>train        </td><td>big_east     </td><td>mwc          </td><td>1            </td><td>big_eastmwc  </td><td> 31.087264   </td><td>⋯            </td><td>12           </td><td> -7          </td><td>0            </td><td>XX           </td><td> 8.633333    </td><td>0.7000000    </td><td> 8.774194    </td><td>0.7419355    </td><td>-0.1408602   </td><td>-0.04193548  </td></tr>\n",
       "</tbody>\n",
       "</table>\n"
      ],
      "text/latex": [
       "\\begin{tabular}{r|lllllllllllllllllllllllll}\n",
       " Season & Team1 & Team2 & result & type & conf1 & conf2 & confdiff & confcode & rank1 & rank2 & rankdiff & region1 & seed1 & region2 & seed2 & seeddiff & regiondiff & regioncode & scorediff1 & W\\_rate1 & scorediff2 & W\\_rate2 & scorediffdiff & W\\_ratediff\\\\\n",
       "\\hline\n",
       "\t 2003            & 1421            & 1411            & 1               & train           & big\\_south     & swac            & 1               & big\\_southswac & 241.370000      & 236.21750       &    5.152500     & X               & 16              & X               & 16              &   0             & 0               & XX              & -7.241379       & 0.4482759       &  1.966667       & 0.6000000       & -9.2080460      & -0.15172414    \\\\\n",
       "\t 2003            & 1112            & 1436            & 1               & train           & pac\\_ten       & aec             & 1               & pac\\_tenaec    &   3.676744      & 171.79750       & -168.120756     & Z               &  1              & Z               & 16              & -15             & 0               & ZZ              & 14.964286       & 0.8928571       &  4.655172       & 0.6551724       & 10.3091133      &  0.23768473    \\\\\n",
       "\t 2003            & 1113            & 1272            & 1               & train           & pac\\_ten       & cusa            & 1               & pac\\_tencusa   &  40.892500      &  42.00000       &   -1.107500     & Z               & 10              & Z               &  7              &   3             & 0               & ZZ              &  6.793103       & 0.6206897       &  8.689655       & 0.7931034       & -1.8965517      & -0.17241379    \\\\\n",
       "\t 2003          & 1141          & 1166          & 1             & train         & mac           & mvc           & 1             & macmvc        &  75.095000    &  16.86977     &   58.225233   & Z             & 11            & Z             &  6            &   5           & 0             & ZZ            &  6.103448     & 0.7931034     & 14.909091     & 0.8787879     & -8.8056426    & -0.08568443  \\\\\n",
       "\t 2003            & 1143            & 1301            & 1               & train           & pac\\_ten       & acc             & 1               & pac\\_tenacc    &  40.748184      &  55.45161       &  -14.703429     & W               &  8              & W               &  9              &  -1             & 0               & WW              &  4.724138       & 0.7241379       &  4.400000       & 0.6000000       &  0.3241379      &  0.12413793    \\\\\n",
       "\t 2003            & 1163            & 1140            & 1               & train           & big\\_east      & mwc             & 1               & big\\_eastmwc   &  31.087264      &  27.54000       &    3.547264     & X               &  5              & X               & 12              &  -7             & 0               & XX              &  8.633333       & 0.7000000       &  8.774194       & 0.7419355       & -0.1408602      & -0.04193548    \\\\\n",
       "\\end{tabular}\n"
      ],
      "text/markdown": [
       "\n",
       "| Season | Team1 | Team2 | result | type | conf1 | conf2 | confdiff | confcode | rank1 | ⋯ | seed2 | seeddiff | regiondiff | regioncode | scorediff1 | W_rate1 | scorediff2 | W_rate2 | scorediffdiff | W_ratediff |\n",
       "|---|---|---|---|---|---|---|---|---|---|---|---|---|---|---|---|---|---|---|---|---|\n",
       "| 2003          | 1421          | 1411          | 1             | train         | big_south     | swac          | 1             | big_southswac | 241.370000    | ⋯             | 16            |   0           | 0             | XX            | -7.241379     | 0.4482759     |  1.966667     | 0.6000000     | -9.2080460    | -0.15172414   |\n",
       "| 2003          | 1112          | 1436          | 1             | train         | pac_ten       | aec           | 1             | pac_tenaec    |   3.676744    | ⋯             | 16            | -15           | 0             | ZZ            | 14.964286     | 0.8928571     |  4.655172     | 0.6551724     | 10.3091133    |  0.23768473   |\n",
       "| 2003          | 1113          | 1272          | 1             | train         | pac_ten       | cusa          | 1             | pac_tencusa   |  40.892500    | ⋯             |  7            |   3           | 0             | ZZ            |  6.793103     | 0.6206897     |  8.689655     | 0.7931034     | -1.8965517    | -0.17241379   |\n",
       "| 2003          | 1141          | 1166          | 1             | train         | mac           | mvc           | 1             | macmvc        |  75.095000    | ⋯             |  6            |   5           | 0             | ZZ            |  6.103448     | 0.7931034     | 14.909091     | 0.8787879     | -8.8056426    | -0.08568443   |\n",
       "| 2003          | 1143          | 1301          | 1             | train         | pac_ten       | acc           | 1             | pac_tenacc    |  40.748184    | ⋯             |  9            |  -1           | 0             | WW            |  4.724138     | 0.7241379     |  4.400000     | 0.6000000     |  0.3241379    |  0.12413793   |\n",
       "| 2003          | 1163          | 1140          | 1             | train         | big_east      | mwc           | 1             | big_eastmwc   |  31.087264    | ⋯             | 12            |  -7           | 0             | XX            |  8.633333     | 0.7000000     |  8.774194     | 0.7419355     | -0.1408602    | -0.04193548   |\n",
       "\n"
      ],
      "text/plain": [
       "  Season Team1 Team2 result type  conf1     conf2 confdiff confcode     \n",
       "1 2003   1421  1411  1      train big_south swac  1        big_southswac\n",
       "2 2003   1112  1436  1      train pac_ten   aec   1        pac_tenaec   \n",
       "3 2003   1113  1272  1      train pac_ten   cusa  1        pac_tencusa  \n",
       "4 2003   1141  1166  1      train mac       mvc   1        macmvc       \n",
       "5 2003   1143  1301  1      train pac_ten   acc   1        pac_tenacc   \n",
       "6 2003   1163  1140  1      train big_east  mwc   1        big_eastmwc  \n",
       "  rank1      ⋯ seed2 seeddiff regiondiff regioncode scorediff1 W_rate1  \n",
       "1 241.370000 ⋯ 16      0      0          XX         -7.241379  0.4482759\n",
       "2   3.676744 ⋯ 16    -15      0          ZZ         14.964286  0.8928571\n",
       "3  40.892500 ⋯  7      3      0          ZZ          6.793103  0.6206897\n",
       "4  75.095000 ⋯  6      5      0          ZZ          6.103448  0.7931034\n",
       "5  40.748184 ⋯  9     -1      0          WW          4.724138  0.7241379\n",
       "6  31.087264 ⋯ 12     -7      0          XX          8.633333  0.7000000\n",
       "  scorediff2 W_rate2   scorediffdiff W_ratediff \n",
       "1  1.966667  0.6000000 -9.2080460    -0.15172414\n",
       "2  4.655172  0.6551724 10.3091133     0.23768473\n",
       "3  8.689655  0.7931034 -1.8965517    -0.17241379\n",
       "4 14.909091  0.8787879 -8.8056426    -0.08568443\n",
       "5  4.400000  0.6000000  0.3241379     0.12413793\n",
       "6  8.774194  0.7419355 -0.1408602    -0.04193548"
      ]
     },
     "metadata": {},
     "output_type": "display_data"
    },
    {
     "data": {
      "text/plain": [
       "     Season         Team1          Team2          result       \n",
       " Min.   :2003   Min.   :1101   Min.   :1102   Min.   :0.00000  \n",
       " 1st Qu.:2015   1st Qu.:1163   1st Qu.:1285   1st Qu.:0.00000  \n",
       " Median :2016   Median :1235   Median :1371   Median :0.00000  \n",
       " Mean   :2016   Mean   :1243   Mean   :1350   Mean   :0.06648  \n",
       " 3rd Qu.:2018   3rd Qu.:1308   3rd Qu.:1433   3rd Qu.:0.00000  \n",
       " Max.   :2019   Max.   :1463   Max.   :1463   Max.   :1.00000  \n",
       "                                                               \n",
       "     type              conf1              conf2              confdiff     \n",
       " Length:15764       Length:15764       Length:15764       Min.   :0.0000  \n",
       " Class :character   Class :character   Class :character   1st Qu.:1.0000  \n",
       " Mode  :character   Mode  :character   Mode  :character   Median :1.0000  \n",
       "                                                          Mean   :0.9584  \n",
       "                                                          3rd Qu.:1.0000  \n",
       "                                                          Max.   :1.0000  \n",
       "                                                                          \n",
       "   confcode             rank1             rank2            rankdiff        \n",
       " Length:15764       Min.   :  1.291   Min.   :  1.291   Min.   :-298.2387  \n",
       " Class :character   1st Qu.: 19.993   1st Qu.: 19.423   1st Qu.: -38.2136  \n",
       " Mode  :character   Median : 38.043   Median : 39.694   Median :   0.4528  \n",
       "                    Mean   : 64.126   Mean   : 61.788   Mean   :   2.3379  \n",
       "                    3rd Qu.: 86.901   3rd Qu.: 83.228   3rd Qu.:  40.7858  \n",
       "                    Max.   :309.900   Max.   :309.900   Max.   : 296.4027  \n",
       "                                                                           \n",
       "   region1              seed1          region2              seed2       \n",
       " Length:15764       Min.   : 1.000   Length:15764       Min.   : 1.000  \n",
       " Class :character   1st Qu.: 4.000   Class :character   1st Qu.: 4.000  \n",
       " Mode  :character   Median : 9.000   Mode  :character   Median : 9.000  \n",
       "                    Mean   : 8.588                      Mean   : 8.523  \n",
       "                    3rd Qu.:13.000                      3rd Qu.:12.000  \n",
       "                    Max.   :16.000                      Max.   :16.000  \n",
       "                                                                        \n",
       "    seeddiff           regiondiff      regioncode          scorediff1    \n",
       " Min.   :-15.00000   Min.   :0.0000   Length:15764       Min.   :-7.241  \n",
       " 1st Qu.: -5.00000   1st Qu.:0.0000   Class :character   1st Qu.: 5.000  \n",
       " Median :  0.00000   Median :1.0000   Mode  :character   Median : 7.844  \n",
       " Mean   :  0.06477   Mean   :0.6656                      Mean   : 7.866  \n",
       " 3rd Qu.:  5.00000   3rd Qu.:1.0000                      3rd Qu.:10.324  \n",
       " Max.   : 15.00000   Max.   :1.0000                      Max.   :23.788  \n",
       "                                                                         \n",
       "    W_rate1         scorediff2        W_rate2       scorediffdiff      \n",
       " Min.   :0.3667   Min.   :-7.241   Min.   :0.3667   Min.   :-24.48674  \n",
       " 1st Qu.:0.6562   1st Qu.: 4.515   1st Qu.:0.6452   1st Qu.: -4.24119  \n",
       " Median :0.7273   Median : 7.818   Median :0.7273   Median : -0.05504  \n",
       " Mean   :0.7230   Mean   : 7.929   Mean   :0.7267   Mean   : -0.06362  \n",
       " 3rd Qu.:0.7879   3rd Qu.:10.647   3rd Qu.:0.8000   3rd Qu.:  4.08937  \n",
       " Max.   :0.9706   Max.   :23.788   Max.   :0.9706   Max.   : 25.23949  \n",
       " NA's   :52                        NA's   :96                          \n",
       "   W_ratediff      \n",
       " Min.   :-0.57451  \n",
       " 1st Qu.:-0.10133  \n",
       " Median : 0.00000  \n",
       " Mean   :-0.00372  \n",
       " 3rd Qu.: 0.09375  \n",
       " Max.   : 0.51569  \n",
       " NA's   :148       "
      ]
     },
     "metadata": {},
     "output_type": "display_data"
    }
   ],
   "source": [
    "# Clean tourney to create train \n",
    "# (Duplicate table for both win and loss results then combine them)\n",
    "df <- tourney[tourney$Season >= Season_Year,c(\"Season\",\"WTeamID\",\"LTeamID\")]\n",
    "df_W <- df\n",
    "df_L <- df[,c(1,3,2)]\n",
    "colnames(df_W) <- c(\"Season\",\"Team1\",\"Team2\")\n",
    "colnames(df_L) <- c(\"Season\",\"Team1\",\"Team2\")\n",
    "df_W$result <- 1\n",
    "df_L$result <- 0\n",
    "train <- rbind(df_W,df_L)\n",
    "\n",
    "# Combine train with Stage1/2 submission\n",
    "train$type = \"train\"\n",
    "stage1_temp <- Stage1\n",
    "stage1_temp$result <- 0\n",
    "stage1_temp$type = \"stage1\"\n",
    "stage2_temp <- Stage2\n",
    "stage2_temp$result <- 0\n",
    "stage2_temp$type = \"stage2\"\n",
    "data <- rbind(train,stage1_temp,stage2_temp)\n",
    "\n",
    "# Join - conference\n",
    "data <- left_join(data,conference,by=c(\"Season\"=\"Season\",\"Team1\"=\"TeamID\"))\n",
    "colnames(data)[length(names(data))] <- \"conf1\"\n",
    "data <- left_join(data,conference,by=c(\"Season\"=\"Season\",\"Team2\"=\"TeamID\"))\n",
    "colnames(data)[length(names(data))] <- \"conf2\"\n",
    "data$confdiff <- ifelse(data$conf1 == data$conf2, 0 ,1)\n",
    "data$confcode <- paste(data$conf1,data$conf2,sep=\"\")\n",
    "\n",
    "# Join - rank\n",
    "data <- left_join(data,rank_group,by=c(\"Season\"=\"Season\",\"Team1\"=\"TeamID\"))\n",
    "colnames(data)[length(names(data))] <- \"rank1\"\n",
    "data <- left_join(data,rank_group,by=c(\"Season\"=\"Season\",\"Team2\"=\"TeamID\"))\n",
    "colnames(data)[length(names(data))]  <- \"rank2\"\n",
    "data$rankdiff <- data$rank1 - data$rank2\n",
    "\n",
    "# Join - seed\n",
    "data <- left_join(data,seeds,by=c(\"Season\"=\"Season\",\"Team1\"=\"TeamID\"))\n",
    "colnames(data)[length(names(data))-1] <- \"region1\"\n",
    "colnames(data)[length(names(data))] <- \"seed1\"\n",
    "data <- left_join(data,seeds,by=c(\"Season\"=\"Season\",\"Team2\"=\"TeamID\"))\n",
    "colnames(data)[length(names(data))-1] <- \"region2\"\n",
    "colnames(data)[length(names(data))] <- \"seed2\"\n",
    "data$seeddiff <- data$seed1 - data$seed2\n",
    "data$regiondiff <- ifelse(data$region1 == data$region2, 0 ,1)\n",
    "data$regioncode <- paste(data$region1,data$region2,sep=\"\")\n",
    "\n",
    "# Join - regular season records\n",
    "data <- left_join(data,regular_group,by=c(\"Season\"=\"Season\",\"Team1\"=\"TeamID\"))\n",
    "colnames(data)[length(names(data))-1] <- \"scorediff1\"\n",
    "colnames(data)[length(names(data))] <- \"W_rate1\"\n",
    "data <- left_join(data,regular_group,by=c(\"Season\"=\"Season\",\"Team2\"=\"TeamID\"))\n",
    "colnames(data)[length(names(data))-1] <- \"scorediff2\"\n",
    "colnames(data)[length(names(data))] <- \"W_rate2\"\n",
    "data$scorediffdiff <- data$scorediff1 - data$scorediff2\n",
    "data$W_ratediff <- data$W_rate1 - data$W_rate2\n",
    "\n",
    "head(data)\n",
    "summary(data)"
   ]
  },
  {
   "cell_type": "markdown",
   "metadata": {
    "_uuid": "74c73627092abddc07d257514bc76e39ea5211be"
   },
   "source": [
    "### Create Train Table for Modeling"
   ]
  },
  {
   "cell_type": "code",
   "execution_count": 8,
   "metadata": {
    "_uuid": "4178aa22d9717f7ff43fa7124bb0a106151654bf"
   },
   "outputs": [],
   "source": [
    "# Replace Categorical to Numerical\n",
    "data$region1 <- as.numeric(factor(data$region1))\n",
    "data$region2 <- as.numeric(factor(data$region2))\n",
    "data$regioncode <- as.numeric(factor(data$regioncode))\n",
    "data$conf1 <- as.numeric(factor(data$conf1))\n",
    "data$conf2 <- as.numeric(factor(data$conf2))\n",
    "data$confcode <- as.numeric(factor(data$confcode))\n",
    "\n",
    "# Split train, Stage1/2 back out\n",
    "trainData_raw <- data[data$type == \"train\",]\n",
    "Stage1Data_raw <- data[data$type == \"stage1\",]\n",
    "Stage2Data_raw <- data[data$type == \"stage2\",]\n",
    "\n",
    "# Replace all NA with medianImpute - using caret\n",
    "pp <- preProcess(trainData_raw, method = \"medianImpute\")\n",
    "trainData_raw <- predict(pp, newdata = trainData_raw)\n",
    "pp <- preProcess(Stage1Data_raw, method = \"medianImpute\")\n",
    "Stage1Data_raw <- predict(pp, newdata = Stage1Data_raw)\n",
    "pp <- preProcess(Stage2Data_raw, method = \"medianImpute\")\n",
    "Stage2Data_raw <- predict(pp, newdata = Stage2Data_raw)"
   ]
  },
  {
   "cell_type": "markdown",
   "metadata": {
    "_uuid": "e48783e191c0e7f093c8f6e57e6b8d15c750242c"
   },
   "source": [
    "## TRAIN SET & MODELING\n",
    "I used caret for both GLM and randomForest"
   ]
  },
  {
   "cell_type": "code",
   "execution_count": 9,
   "metadata": {
    "_uuid": "7003220f17b8eeb1999c3a41d1d08e202debe2e4"
   },
   "outputs": [],
   "source": [
    "# choose variables\n",
    "variables <- c(\"rank1\",\"rank2\",\n",
    "               \"rankdiff\",\n",
    "               \"region1\", \"seed1\",\"region2\",\"seed2\",\n",
    "               \"conf1\", \"conf2\",\"confdiff\",\"confcode\",              \n",
    "               \"seeddiff\",\"regiondiff\",\"regioncode\",\n",
    "               \"scorediff1\",\"W_rate1\",\"scorediff2\",\"W_rate2\",\n",
    "               \"scorediffdiff\",\"W_ratediff\")\n",
    "\n",
    "trainresult <- as.factor(trainData_raw$result)\n",
    "levels(trainresult) <- c(\"L\",\"W\")\n",
    "trainData <- trainData_raw[variables]\n",
    "Stage1Data <- Stage1Data_raw[variables]\n",
    "Stage2Data <- Stage2Data_raw[variables]"
   ]
  },
  {
   "cell_type": "markdown",
   "metadata": {
    "_uuid": "aa9bc4d2cb832be2c91778a2765b4a95be5afcd4"
   },
   "source": [
    "### GLM"
   ]
  },
  {
   "cell_type": "code",
   "execution_count": 10,
   "metadata": {
    "_uuid": "f8ff7d1429a0ac5d832cd43978014d7a4c4c7801"
   },
   "outputs": [
    {
     "data": {
      "text/html": [
       "0.541786009621841"
      ],
      "text/latex": [
       "0.541786009621841"
      ],
      "text/markdown": [
       "0.541786009621841"
      ],
      "text/plain": [
       "[1] 0.541786"
      ]
     },
     "metadata": {},
     "output_type": "display_data"
    }
   ],
   "source": [
    "# Model Train\n",
    "cctrl1 <- trainControl(method=\"cv\", number=10, returnResamp=\"all\",\n",
    "                       classProbs=TRUE, summaryFunction=twoClassSummary)\n",
    "set.seed(929)\n",
    "glm_cv <- train(trainData, trainresult, method = \"glm\", \n",
    "                             trControl = cctrl1, metric = \"ROC\")\n",
    "\n",
    "# Predict on Test & Check Accuracy\n",
    "trainData_raw$pred_glm <- predict(glm_cv, trainData, type=\"prob\")$W\n",
    "logLoss(trainData_raw$result, trainData_raw$pred_glm)"
   ]
  },
  {
   "cell_type": "markdown",
   "metadata": {
    "_uuid": "c6cae4614361aba046ccc25a9400c6cec38e3fe5"
   },
   "source": [
    "### randomForest"
   ]
  },
  {
   "cell_type": "code",
   "execution_count": 11,
   "metadata": {
    "_uuid": "b0408f9ddf17d07b90a2a5d40f747cdbb2c234dd",
    "scrolled": true
   },
   "outputs": [
    {
     "data": {
      "text/html": [
       "0.156598272814721"
      ],
      "text/latex": [
       "0.156598272814721"
      ],
      "text/markdown": [
       "0.156598272814721"
      ],
      "text/plain": [
       "[1] 0.1565983"
      ]
     },
     "metadata": {},
     "output_type": "display_data"
    },
    {
     "data": {
      "image/png": "[encoded data removed]"
     },
     "metadata": {},
     "output_type": "display_data"
    }
   ],
   "source": [
    "# Model Train\n",
    "cctrl1 <- trainControl(method=\"cv\", number=5, returnResamp=\"all\",\n",
    "                       classProbs=TRUE, summaryFunction=twoClassSummary)\n",
    "set.seed(929)\n",
    "rf_cv <- train(trainData, trainresult, method = \"rf\", \n",
    "                trControl = cctrl1, metric = \"ROC\", importance = TRUE,\n",
    "               ntree = 100, tuneGrid = expand.grid(.mtry=5))\n",
    "plot(varImp(rf_cv))\n",
    "\n",
    "# Predict on Test & Check Accuracy\n",
    "trainData_raw$pred_rf <- predict(rf_cv, trainData, type=\"prob\")$W\n",
    "logLoss(trainData_raw$result, trainData_raw$pred_rf)"
   ]
  },
  {
   "cell_type": "markdown",
   "metadata": {
    "_uuid": "3f514222b434348cce9ea13c66b5d0fa4c95c504"
   },
   "source": [
    "## PREDICTING AND EXPORT"
   ]
  },
  {
   "cell_type": "code",
   "execution_count": 12,
   "metadata": {
    "_uuid": "8c162a8231b991bc0f0abb5bd1fefe6a2c8f893a"
   },
   "outputs": [],
   "source": [
    "# GLM\n",
    "Stage1$pred <- predict(glm_cv, Stage1Data, type=\"prob\")$W\n",
    "Stage2$pred <- predict(glm_cv, Stage2Data, type=\"prob\")$W\n",
    "\n",
    "# RF \n",
    "Stage1$pred <- predict(rf_cv, Stage1Data, type=\"prob\")$W\n",
    "Stage2$pred <- predict(rf_cv, Stage2Data, type=\"prob\")$W\n",
    "submitR1 <- Stage2 %>% \n",
    "  select(Season, Team1, Team2, pred) %>%\n",
    "  unite(\"ID\", Season, Team1, Team2, sep = \"_\") %>%\n",
    "  write.csv(\"../stage2_rf.csv\", row.names = FALSE)"
   ]
  },
  {
   "cell_type": "markdown",
   "metadata": {
    "_uuid": "f1d30743e710dedb79f7a6616b769264b294ca9a"
   },
   "source": [
    "## MATCH TEAM IDTO TEAM NAMES\n",
    "This was done for my own manual bracket creation"
   ]
  },
  {
   "cell_type": "code",
   "execution_count": 13,
   "metadata": {
    "_uuid": "c9252b3fec73b88ba5509a174436dc62ad6bbd0c"
   },
   "outputs": [],
   "source": [
    "Stage2$pred_rf <- predict(rf_cv, Stage2Data)\n",
    "teams <- teams[,c(\"TeamID\",\"TeamName\")]\n",
    "Stage2 <- left_join(Stage2,teams,by=c(\"Team1\"=\"TeamID\"))\n",
    "colnames(Stage2)[length(names(Stage2))] <- \"Team1_name\"\n",
    "Stage2 <- left_join(Stage2,teams,by=c(\"Team2\"=\"TeamID\"))\n",
    "colnames(Stage2)[length(names(Stage2))] <- \"Team2_name\"\n",
    "#write.xlsx(Stage2, \"../Predictions.xlsx\", row.names = FALSE)"
   ]
  }
 ],
 "metadata": {
  "kernelspec": {
   "display_name": "R",
   "language": "R",
   "name": "ir"
  },
  "language_info": {
   "codemirror_mode": "r",
   "file_extension": ".r",
   "mimetype": "text/x-r-source",
   "name": "R",
   "pygments_lexer": "r",
   "version": "3.4.2"
  }
 },
 "nbformat": 4,
 "nbformat_minor": 1
}
